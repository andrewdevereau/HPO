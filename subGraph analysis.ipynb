{
 "cells": [
  {
   "cell_type": "code",
   "execution_count": 1,
   "metadata": {
    "collapsed": true
   },
   "outputs": [],
   "source": [
    "from __future__ import with_statement\n",
    "from collections import defaultdict\n",
    "import json\n",
    "import networkx as nx\n",
    "import matplotlib.pyplot as plt\n",
    "import graphviz as gv\n",
    "__author__    = \"Uli Koehler\"\n",
    "__copyright__ = \"Copyright 2013 Uli Koehler\"\n",
    "__license__   = \"Apache v2.0\"                                       #this was the original GO parser used in processGOTerm and parseGOOBO"
   ]
  },
  {
   "cell_type": "code",
   "execution_count": 2,
   "metadata": {
    "collapsed": true
   },
   "outputs": [],
   "source": [
    "def processGOTerm(goTerm):\n",
    "    \"\"\"\n",
    "    In an object representing a GO term, replace single-element lists with\n",
    "    their only member.\n",
    "    Returns the modified object as a dictionary.\n",
    "    \"\"\"\n",
    "    ret = dict(goTerm) #Input is a defaultdict, might express unexpected behaviour\n",
    "    for key, value in ret.items():\n",
    "        if len(value) == 1:\n",
    "            ret[key] = value[0]\n",
    "    return ret"
   ]
  },
  {
   "cell_type": "code",
   "execution_count": 3,
   "metadata": {
    "collapsed": true
   },
   "outputs": [],
   "source": [
    "def parseGOOBO(filename):\n",
    "    \"\"\"\n",
    "    Parses a Gene Ontology dump in OBO v1.2 format.\n",
    "    Yields each \n",
    "    Keyword arguments:\n",
    "        filename: The filename to read\n",
    "    \"\"\"\n",
    "    with open(filename, \"r\", encoding='utf-8') as infile:\n",
    "        currentGOTerm = None\n",
    "        for line in infile:\n",
    "            line = line.strip()\n",
    "            if not line: continue #Skip empty\n",
    "            if line == \"[Term]\":\n",
    "                if currentGOTerm: yield processGOTerm(currentGOTerm)\n",
    "                currentGOTerm = defaultdict(list)\n",
    "            elif line == \"[Typedef]\":\n",
    "                #Skip [Typedef sections]\n",
    "                currentGOTerm = None\n",
    "            else: #Not [Term]\n",
    "                #Only process if we're inside a [Term] environment\n",
    "                if currentGOTerm is None: continue\n",
    "                key, sep, val = line.partition(\":\")\n",
    "                currentGOTerm[key].append(val.strip())\n",
    "        #Add last term\n",
    "        if currentGOTerm is not None:\n",
    "            yield processGOTerm(currentGOTerm)"
   ]
  },
  {
   "cell_type": "code",
   "execution_count": 4,
   "metadata": {
    "collapsed": false
   },
   "outputs": [],
   "source": [
    "def getGraph(filename):       #creates a graph object from an obo file at the filename\n",
    "    oboGen = parseGOOBO(filename)   #get a generator for the obo file\n",
    "    G = nx.DiGraph()               #make a directed graph\n",
    "    for goterm in oboGen:          #get each node in the obo file\n",
    "        if 'is_a' in goterm:       #if there are is_a links...\n",
    "            if type(goterm['is_a']) == list:    #if there is a list of is_a links....\n",
    "                for is_a in goterm['is_a']:   #add each one as a new edge\n",
    "                    G.add_edge(goterm['id'], is_a[0:10])\n",
    "                    G.add_node(goterm['id'], name = goterm['name']) #add the name to the node\n",
    "            else:\n",
    "                G.add_edge(goterm['id'], goterm['is_a'][0:10])   #if there is only one is_a add it \n",
    "                G.add_node(goterm['id'], name = goterm['name'])\n",
    "        else:\n",
    "            G.add_node(goterm['id'], name = goterm['name'])       #add a node if there are no is_a links\n",
    "    return G "
   ]
  },
  {
   "cell_type": "code",
   "execution_count": 5,
   "metadata": {
    "collapsed": true
   },
   "outputs": [],
   "source": [
    "def getPathGraphs(G, source): #get a subgraph of all paths from the source to top HPO node in graph G\n",
    "    bunch = []   #this will be a bunch of paths as a list\n",
    "    for path in nx.all_simple_paths(G, source = source, target = 'HP:0000118'):  #118 is the top phenotype class\n",
    "        bunch.append(path)     #all_simpl_paths returns a list of paths\n",
    "    H = nx.DiGraph()  #create a graph to add the paths to\n",
    "    for p in bunch:\n",
    "        H = nx.compose(H, nx.subgraph(G,p))  #create a subgraph from each path and join in overall subgraph H\n",
    "    return H"
   ]
  },
  {
   "cell_type": "code",
   "execution_count": 6,
   "metadata": {
    "collapsed": true
   },
   "outputs": [],
   "source": [
    "def noColon(hp):  #replace format HP:00000000 with HP_00000000 for graphviz\n",
    "    return hp[0:2]+'_'+hp[3:11]"
   ]
  },
  {
   "cell_type": "code",
   "execution_count": 144,
   "metadata": {
    "collapsed": false
   },
   "outputs": [],
   "source": [
    "def drawSubGraph(H, color): #Converts a nx graph into a gv dot graph for display only\n",
    "    dot = gv.Digraph()\n",
    "    dot.graph_attr['rankdir'] = 'BT'  #arrows point upwards\n",
    "    dot.graph_attr['size'] = '5'      #set the picture size\n",
    "    for n in H.nodes(data = True):\n",
    "        dot.node(noColon(n[0]), n[0] + \" \" + n[1]['name'])   #dot doesnt like colons so replace node and edge names with _\n",
    "    for e in H.edges():\n",
    "        dot.edge(noColon(e[0]), noColon(e[1]), color=color)\n",
    "    return dot"
   ]
  },
  {
   "cell_type": "code",
   "execution_count": 95,
   "metadata": {
    "collapsed": true
   },
   "outputs": [],
   "source": [
    "def getPic(searchTerm, G, color):  #gets the HPO subgraph for a term in an old and new ontology version\n",
    "    H = getPathGraphs(G, searchTerm)\n",
    "    return drawSubGraph(H, color)   #return the dot"
   ]
  },
  {
   "cell_type": "code",
   "execution_count": 86,
   "metadata": {
    "collapsed": false
   },
   "outputs": [
    {
     "name": "stdout",
     "output_type": "stream",
     "text": [
      "11939 15595\n",
      "11067 14698\n"
     ]
    }
   ],
   "source": [
    "directory = 'C:/Users/Andrew Devereau/Documents/Python Scripts/'\n",
    "newFile = directory + 'hp051016.obo'\n",
    "oldFile = directory + 'hpoDMC.obo'\n",
    "newG = getGraph(newFile)\n",
    "oldG = getGraph(oldFile)\n",
    "print (newG.number_of_nodes(), newG.number_of_edges())\n",
    "print (oldG.number_of_nodes(), oldG.number_of_edges())"
   ]
  },
  {
   "cell_type": "markdown",
   "metadata": {},
   "source": [
    "The code below gets old and new versions of subgraph for each code and merges them to show changes. Note though that this does not show when a parent node has the same HPO code but its name has changed as the old name is not displayed, thus some results may show the same subgraph for old and new"
   ]
  },
  {
   "cell_type": "code",
   "execution_count": 213,
   "metadata": {
    "collapsed": true
   },
   "outputs": [],
   "source": [
    "with open('parentChanges.txt', 'r') as infile:\n",
    "    hpoChangeList = [x.strip() for x in infile]   #gp through the list of changed HPO terms\n",
    "    for searchTerm in hpoChangeList:\n",
    "        dot1 = getPic(searchTerm, oldG, 'blue')   #for each get the old(blue) and new (red) subGraph\n",
    "        dot2 = getPic(searchTerm, newG, 'red')\n",
    "        dot1.subgraph(dot2)                        #combine them and save as a pdf\n",
    "        dot1.render('C:/Users/Andrew Devereau/pdf/' + noColon(searchTerm))"
   ]
  }
 ],
 "metadata": {
  "kernelspec": {
   "display_name": "Python 3",
   "language": "python",
   "name": "python3"
  },
  "language_info": {
   "codemirror_mode": {
    "name": "ipython",
    "version": 3
   },
   "file_extension": ".py",
   "mimetype": "text/x-python",
   "name": "python",
   "nbconvert_exporter": "python",
   "pygments_lexer": "ipython3",
   "version": "3.5.1"
  }
 },
 "nbformat": 4,
 "nbformat_minor": 0
}
