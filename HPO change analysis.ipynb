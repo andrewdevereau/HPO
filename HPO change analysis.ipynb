{
 "cells": [
  {
   "cell_type": "code",
   "execution_count": 1,
   "metadata": {
    "collapsed": false
   },
   "outputs": [
    {
     "name": "stderr",
     "output_type": "stream",
     "text": [
      "C:\\Users\\Andrew Devereau\\Anaconda3\\lib\\site-packages\\fuzzywuzzy\\fuzz.py:35: UserWarning: Using slow pure-python SequenceMatcher. Install python-Levenshtein to remove this warning\n",
      "  warnings.warn('Using slow pure-python SequenceMatcher. Install python-Levenshtein to remove this warning')\n"
     ]
    }
   ],
   "source": [
    "import pandas as pd\n",
    "import numpy as np\n",
    "from fuzzywuzzy import fuzz\n",
    "from fuzzywuzzy import process"
   ]
  },
  {
   "cell_type": "code",
   "execution_count": 2,
   "metadata": {
    "collapsed": false
   },
   "outputs": [],
   "source": [
    "changes = pd.read_csv('change.txt', header=None, sep = '\\t', names = ['DiseaseID', 'Disease','HPOId', 'HPOName', 'ChangeType', 'ChangedField', 'oldValue', 'newValue'])"
   ]
  },
  {
   "cell_type": "code",
   "execution_count": 3,
   "metadata": {
    "collapsed": false
   },
   "outputs": [
    {
     "name": "stdout",
     "output_type": "stream",
     "text": [
      "<class 'pandas.core.frame.DataFrame'>\n",
      "RangeIndex: 3409 entries, 0 to 3408\n",
      "Data columns (total 8 columns):\n",
      "DiseaseID       3409 non-null int64\n",
      "Disease         3409 non-null object\n",
      "HPOId           3409 non-null object\n",
      "HPOName         3409 non-null object\n",
      "ChangeType      3409 non-null object\n",
      "ChangedField    3409 non-null object\n",
      "oldValue        3409 non-null object\n",
      "newValue        2589 non-null object\n",
      "dtypes: int64(1), object(7)\n",
      "memory usage: 213.1+ KB\n"
     ]
    }
   ],
   "source": [
    "changes.info()   #this is the output from the comparison of HPO versions"
   ]
  },
  {
   "cell_type": "code",
   "execution_count": 4,
   "metadata": {
    "collapsed": false,
    "scrolled": true
   },
   "outputs": [
    {
     "data": {
      "text/html": [
       "<div>\n",
       "<table border=\"1\" class=\"dataframe\">\n",
       "  <thead>\n",
       "    <tr style=\"text-align: right;\">\n",
       "      <th></th>\n",
       "      <th>DiseaseID</th>\n",
       "      <th>Disease</th>\n",
       "      <th>HPOId</th>\n",
       "      <th>HPOName</th>\n",
       "      <th>ChangeType</th>\n",
       "      <th>ChangedField</th>\n",
       "      <th>oldValue</th>\n",
       "      <th>newValue</th>\n",
       "    </tr>\n",
       "  </thead>\n",
       "  <tbody>\n",
       "    <tr>\n",
       "      <th>0</th>\n",
       "      <td>33666</td>\n",
       "      <td>Familial Hypercholesterolaemia</td>\n",
       "      <td>HP:0003141</td>\n",
       "      <td>Hyperbetalipoproteinemia</td>\n",
       "      <td>Changed</td>\n",
       "      <td>synonym</td>\n",
       "      <td>['\"Increased beta-lipoproteins\" EXACT []', '\"I...</td>\n",
       "      <td>['\"Increased beta-lipoproteins\" EXACT []', '\"I...</td>\n",
       "    </tr>\n",
       "    <tr>\n",
       "      <th>1</th>\n",
       "      <td>33666</td>\n",
       "      <td>Familial Hypercholesterolaemia</td>\n",
       "      <td>HP:0001658</td>\n",
       "      <td>Myocardial infarction</td>\n",
       "      <td>Added</td>\n",
       "      <td>synonym</td>\n",
       "      <td>Heart attack EXACT [orcid.org/0000-0001-5208-3...</td>\n",
       "      <td>NaN</td>\n",
       "    </tr>\n",
       "    <tr>\n",
       "      <th>2</th>\n",
       "      <td>36469</td>\n",
       "      <td>Familial cerebral small vessel disease</td>\n",
       "      <td>HP:0001297</td>\n",
       "      <td>Stroke</td>\n",
       "      <td>Changed</td>\n",
       "      <td>synonym</td>\n",
       "      <td>['\"Cerebral vascular events\" EXACT []', '\"Cere...</td>\n",
       "      <td>['\"Cerebral vascular events\" EXACT []', '\"Cere...</td>\n",
       "    </tr>\n",
       "    <tr>\n",
       "      <th>3</th>\n",
       "      <td>36469</td>\n",
       "      <td>Familial cerebral small vessel disease</td>\n",
       "      <td>HP:0002326</td>\n",
       "      <td>Transient ischemic attack</td>\n",
       "      <td>Changed</td>\n",
       "      <td>synonym</td>\n",
       "      <td>['\"TIA\" EXACT []', '\"Transient ischemic attack...</td>\n",
       "      <td>['\"Mini stroke\" EXACT [orcid.org/0000-0001-520...</td>\n",
       "    </tr>\n",
       "    <tr>\n",
       "      <th>4</th>\n",
       "      <td>36469</td>\n",
       "      <td>Familial cerebral small vessel disease</td>\n",
       "      <td>HP:0001342</td>\n",
       "      <td>Cerebral hemorrhage</td>\n",
       "      <td>Changed</td>\n",
       "      <td>synonym</td>\n",
       "      <td>Intracerebral hemorrhage EXACT []</td>\n",
       "      <td>['\"Hemorrhagic stroke\" RELATED [http://orcid.o...</td>\n",
       "    </tr>\n",
       "  </tbody>\n",
       "</table>\n",
       "</div>"
      ],
      "text/plain": [
       "   DiseaseID                                 Disease       HPOId  \\\n",
       "0      33666          Familial Hypercholesterolaemia  HP:0003141   \n",
       "1      33666          Familial Hypercholesterolaemia  HP:0001658   \n",
       "2      36469  Familial cerebral small vessel disease  HP:0001297   \n",
       "3      36469  Familial cerebral small vessel disease  HP:0002326   \n",
       "4      36469  Familial cerebral small vessel disease  HP:0001342   \n",
       "\n",
       "                     HPOName ChangeType ChangedField  \\\n",
       "0   Hyperbetalipoproteinemia    Changed      synonym   \n",
       "1      Myocardial infarction      Added      synonym   \n",
       "2                     Stroke    Changed      synonym   \n",
       "3  Transient ischemic attack    Changed      synonym   \n",
       "4        Cerebral hemorrhage    Changed      synonym   \n",
       "\n",
       "                                            oldValue  \\\n",
       "0  ['\"Increased beta-lipoproteins\" EXACT []', '\"I...   \n",
       "1  Heart attack EXACT [orcid.org/0000-0001-5208-3...   \n",
       "2  ['\"Cerebral vascular events\" EXACT []', '\"Cere...   \n",
       "3  ['\"TIA\" EXACT []', '\"Transient ischemic attack...   \n",
       "4                  Intracerebral hemorrhage EXACT []   \n",
       "\n",
       "                                            newValue  \n",
       "0  ['\"Increased beta-lipoproteins\" EXACT []', '\"I...  \n",
       "1                                                NaN  \n",
       "2  ['\"Cerebral vascular events\" EXACT []', '\"Cere...  \n",
       "3  ['\"Mini stroke\" EXACT [orcid.org/0000-0001-520...  \n",
       "4  ['\"Hemorrhagic stroke\" RELATED [http://orcid.o...  "
      ]
     },
     "execution_count": 4,
     "metadata": {},
     "output_type": "execute_result"
    }
   ],
   "source": [
    "changes.head()"
   ]
  },
  {
   "cell_type": "code",
   "execution_count": 5,
   "metadata": {
    "collapsed": false
   },
   "outputs": [
    {
     "data": {
      "text/plain": [
       "762"
      ]
     },
     "execution_count": 5,
     "metadata": {},
     "output_type": "execute_result"
    }
   ],
   "source": [
    "len(changes['HPOId'].unique())  #this is the number of HPO terms with changes in our models"
   ]
  },
  {
   "cell_type": "code",
   "execution_count": 6,
   "metadata": {
    "collapsed": false
   },
   "outputs": [],
   "source": [
    "def match (matchList):\n",
    "    return fuzz.ratio(str(matchList[0]), str(matchList[1]))   #a function to apply a simple fuzzy match"
   ]
  },
  {
   "cell_type": "code",
   "execution_count": 7,
   "metadata": {
    "collapsed": false
   },
   "outputs": [],
   "source": [
    "changes['match'] = changes.iloc[:,6:8].apply(match, axis = 1)  #apply a fuzzy match to the old and new terms. A score of >=99\n",
    "                                                               #indicates only minor changes to spacing etc. which can be ignored"
   ]
  },
  {
   "cell_type": "code",
   "execution_count": 8,
   "metadata": {
    "collapsed": false,
    "scrolled": true
   },
   "outputs": [],
   "source": [
    "replaced = changes[(changes.ChangedField == 'replaced_by')]   #terms which have been replaced are Red class changes"
   ]
  },
  {
   "cell_type": "code",
   "execution_count": 9,
   "metadata": {
    "collapsed": false
   },
   "outputs": [],
   "source": [
    "obsolete = changes[(changes.ChangedField == 'is_obsolete')]  #terms made obsolete are red class"
   ]
  },
  {
   "cell_type": "code",
   "execution_count": 10,
   "metadata": {
    "collapsed": false
   },
   "outputs": [
    {
     "data": {
      "text/html": [
       "<div>\n",
       "<table border=\"1\" class=\"dataframe\">\n",
       "  <thead>\n",
       "    <tr style=\"text-align: right;\">\n",
       "      <th></th>\n",
       "      <th>DiseaseID</th>\n",
       "      <th>Disease</th>\n",
       "      <th>HPOId</th>\n",
       "      <th>HPOName</th>\n",
       "      <th>ChangeType</th>\n",
       "      <th>ChangedField</th>\n",
       "      <th>oldValue</th>\n",
       "      <th>newValue</th>\n",
       "      <th>match</th>\n",
       "    </tr>\n",
       "  </thead>\n",
       "  <tbody>\n",
       "    <tr>\n",
       "      <th>1299</th>\n",
       "      <td>36852</td>\n",
       "      <td>Disorders of sex development</td>\n",
       "      <td>HP:0000057</td>\n",
       "      <td>obsolete Clitoromegaly</td>\n",
       "      <td>Added</td>\n",
       "      <td>is_obsolete</td>\n",
       "      <td>true</td>\n",
       "      <td>NaN</td>\n",
       "      <td>0</td>\n",
       "    </tr>\n",
       "    <tr>\n",
       "      <th>2723</th>\n",
       "      <td>11115</td>\n",
       "      <td>Anophthalmia or microphthamia</td>\n",
       "      <td>HP:0000611</td>\n",
       "      <td>obsolete Choroid coloboma</td>\n",
       "      <td>Added</td>\n",
       "      <td>is_obsolete</td>\n",
       "      <td>true</td>\n",
       "      <td>NaN</td>\n",
       "      <td>0</td>\n",
       "    </tr>\n",
       "  </tbody>\n",
       "</table>\n",
       "</div>"
      ],
      "text/plain": [
       "      DiseaseID                        Disease       HPOId  \\\n",
       "1299      36852   Disorders of sex development  HP:0000057   \n",
       "2723      11115  Anophthalmia or microphthamia  HP:0000611   \n",
       "\n",
       "                        HPOName ChangeType ChangedField oldValue newValue  \\\n",
       "1299     obsolete Clitoromegaly      Added  is_obsolete     true      NaN   \n",
       "2723  obsolete Choroid coloboma      Added  is_obsolete     true      NaN   \n",
       "\n",
       "      match  \n",
       "1299      0  \n",
       "2723      0  "
      ]
     },
     "execution_count": 10,
     "metadata": {},
     "output_type": "execute_result"
    }
   ],
   "source": [
    "diff1 = obsolete[~(obsolete.HPOId.isin(replaced['HPOId']))]  #obsolete and replaced should be the same\n",
    "diff1   #but there are two obsolete terms which do not seem to have been replaced"
   ]
  },
  {
   "cell_type": "code",
   "execution_count": 11,
   "metadata": {
    "collapsed": false
   },
   "outputs": [
    {
     "data": {
      "text/html": [
       "<div>\n",
       "<table border=\"1\" class=\"dataframe\">\n",
       "  <thead>\n",
       "    <tr style=\"text-align: right;\">\n",
       "      <th></th>\n",
       "      <th>DiseaseID</th>\n",
       "      <th>Disease</th>\n",
       "      <th>HPOId</th>\n",
       "      <th>HPOName</th>\n",
       "      <th>ChangeType</th>\n",
       "      <th>ChangedField</th>\n",
       "      <th>oldValue</th>\n",
       "      <th>newValue</th>\n",
       "      <th>match</th>\n",
       "    </tr>\n",
       "  </thead>\n",
       "  <tbody>\n",
       "  </tbody>\n",
       "</table>\n",
       "</div>"
      ],
      "text/plain": [
       "Empty DataFrame\n",
       "Columns: [DiseaseID, Disease, HPOId, HPOName, ChangeType, ChangedField, oldValue, newValue, match]\n",
       "Index: []"
      ]
     },
     "execution_count": 11,
     "metadata": {},
     "output_type": "execute_result"
    }
   ],
   "source": [
    "diff2 = replaced[~(replaced.HPOId.isin(obsolete['HPOId']))]  \n",
    "diff2  #there are no terms in replaced that are not in obsolete"
   ]
  },
  {
   "cell_type": "code",
   "execution_count": 12,
   "metadata": {
    "collapsed": false
   },
   "outputs": [],
   "source": [
    "replaced.sort_values(by='HPOId', ascending=1).to_excel('replaced.xlsx', index=False)  #output sets to excel\n",
    "obsolete.sort_values(by='HPOId', ascending=1).to_excel('obsolete.xlsx', index=False) #grouped by HPO number"
   ]
  },
  {
   "cell_type": "code",
   "execution_count": 13,
   "metadata": {
    "collapsed": false
   },
   "outputs": [
    {
     "name": "stdout",
     "output_type": "stream",
     "text": [
      "<class 'pandas.core.frame.DataFrame'>\n",
      "Int64Index: 139 entries, 310 to 3383\n",
      "Data columns (total 9 columns):\n",
      "DiseaseID       139 non-null int64\n",
      "Disease         139 non-null object\n",
      "HPOId           139 non-null object\n",
      "HPOName         139 non-null object\n",
      "ChangeType      139 non-null object\n",
      "ChangedField    139 non-null object\n",
      "oldValue        139 non-null object\n",
      "newValue        139 non-null object\n",
      "match           139 non-null int64\n",
      "dtypes: int64(2), object(7)\n",
      "memory usage: 10.9+ KB\n"
     ]
    }
   ],
   "source": [
    "nameChange = changes[(changes.ChangedField == 'name') & ~(changes.HPOId.isin(obsolete['HPOId'])) & (changes.match <=99)]\n",
    "nameChange.info()   #changes to names are a red class change. Obsolete terms also show a name change so can be excluded\n",
    "                    #and changes >99 match score are excluded"
   ]
  },
  {
   "cell_type": "code",
   "execution_count": 14,
   "metadata": {
    "collapsed": false
   },
   "outputs": [],
   "source": [
    "nameChange.sort_values(by='HPOId', ascending=1).to_excel('nameChange.xlsx', index = False)   #output changes names to an excel sheet"
   ]
  },
  {
   "cell_type": "code",
   "execution_count": 15,
   "metadata": {
    "collapsed": true
   },
   "outputs": [],
   "source": [
    "definitionChange = changes[(changes.ChangedField == 'def') & (changes.match < 90)]  #terms with definition changes may be a red class\n",
    "definitionChange.sort_values(by='HPOId', ascending=1).to_excel('defChange.xlsx', index = False) #90 is chosed following inspection of \n",
    "    #all definition changes - only minor changes were seen above 90"
   ]
  },
  {
   "cell_type": "code",
   "execution_count": 16,
   "metadata": {
    "collapsed": false
   },
   "outputs": [],
   "source": [
    "parentChange = changes[(changes.ChangedField == 'is_a') & (changes.ChangeType == 'Changed') & (changes.match < 98)]   #get all changes to parent (is_a) terms"
   ]
  },
  {
   "cell_type": "code",
   "execution_count": 17,
   "metadata": {
    "collapsed": false
   },
   "outputs": [
    {
     "name": "stdout",
     "output_type": "stream",
     "text": [
      "<class 'pandas.core.frame.DataFrame'>\n",
      "Int64Index: 406 entries, 15 to 3406\n",
      "Data columns (total 9 columns):\n",
      "DiseaseID       406 non-null int64\n",
      "Disease         406 non-null object\n",
      "HPOId           406 non-null object\n",
      "HPOName         406 non-null object\n",
      "ChangeType      406 non-null object\n",
      "ChangedField    406 non-null object\n",
      "oldValue        406 non-null object\n",
      "newValue        406 non-null object\n",
      "match           406 non-null int64\n",
      "dtypes: int64(2), object(7)\n",
      "memory usage: 31.7+ KB\n"
     ]
    }
   ],
   "source": [
    "parentChange.info()"
   ]
  },
  {
   "cell_type": "code",
   "execution_count": 18,
   "metadata": {
    "collapsed": false
   },
   "outputs": [],
   "source": [
    "parentChange.sort_values(by='HPOId', ascending=1).to_excel('parentChange.xlsx', index = False)"
   ]
  },
  {
   "cell_type": "code",
   "execution_count": 19,
   "metadata": {
    "collapsed": false
   },
   "outputs": [],
   "source": [
    "hpoChanges = parentChange['HPOId'].unique()"
   ]
  },
  {
   "cell_type": "code",
   "execution_count": 20,
   "metadata": {
    "collapsed": false
   },
   "outputs": [],
   "source": [
    "with open('parentChanges.txt', 'w') as outfile:   #save a the set of HPO IDs that are affected by parent changes\n",
    "    for f in hpoChanges:\n",
    "        outfile.write(f + '\\n')"
   ]
  },
  {
   "cell_type": "code",
   "execution_count": null,
   "metadata": {
    "collapsed": true
   },
   "outputs": [],
   "source": []
  }
 ],
 "metadata": {
  "kernelspec": {
   "display_name": "Python 3",
   "language": "python",
   "name": "python3"
  },
  "language_info": {
   "codemirror_mode": {
    "name": "ipython",
    "version": 3
   },
   "file_extension": ".py",
   "mimetype": "text/x-python",
   "name": "python",
   "nbconvert_exporter": "python",
   "pygments_lexer": "ipython3",
   "version": "3.5.1"
  }
 },
 "nbformat": 4,
 "nbformat_minor": 0
}
